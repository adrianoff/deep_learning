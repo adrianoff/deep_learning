{
 "cells": [
  {
   "cell_type": "code",
   "execution_count": 72,
   "metadata": {},
   "outputs": [],
   "source": [
    "from keras.models import Sequential\n",
    "from keras.layers import Dense\n",
    "from keras.datasets import mnist\n",
    "(X_train, Y_train), (X_test, Y_test) = mnist.load_data()"
   ]
  },
  {
   "cell_type": "code",
   "execution_count": 73,
   "metadata": {
    "collapsed": true
   },
   "outputs": [],
   "source": [
    "from keras.utils import np_utils\n",
    "Y_train_cat = np_utils.to_categorical(Y_train, 10)\n",
    "Y_test_cat = np_utils.to_categorical(Y_test, 10)"
   ]
  },
  {
   "cell_type": "code",
   "execution_count": 65,
   "metadata": {},
   "outputs": [
    {
     "data": {
      "text/plain": [
       "(60000, 10)"
      ]
     },
     "execution_count": 65,
     "metadata": {},
     "output_type": "execute_result"
    }
   ],
   "source": [
    "Y_train_cat.shape"
   ]
  },
  {
   "cell_type": "code",
   "execution_count": 66,
   "metadata": {},
   "outputs": [
    {
     "data": {
      "text/plain": [
       "array([[ 0.,  0.,  0., ...,  0.,  0.,  0.],\n",
       "       [ 1.,  0.,  0., ...,  0.,  0.,  0.],\n",
       "       [ 0.,  0.,  0., ...,  0.,  0.,  0.],\n",
       "       ..., \n",
       "       [ 0.,  0.,  0., ...,  0.,  0.,  0.],\n",
       "       [ 0.,  0.,  0., ...,  0.,  0.,  0.],\n",
       "       [ 0.,  0.,  0., ...,  0.,  1.,  0.]])"
      ]
     },
     "execution_count": 66,
     "metadata": {},
     "output_type": "execute_result"
    }
   ],
   "source": [
    "Y_train_cat"
   ]
  },
  {
   "cell_type": "code",
   "execution_count": 67,
   "metadata": {
    "collapsed": true
   },
   "outputs": [],
   "source": [
    "X_train_reshaped = X_train.reshape([-1, 28*28]) / 255\n",
    "X_test_reshaped = X_test.reshape([-1, 28*28]) / 255"
   ]
  },
  {
   "cell_type": "code",
   "execution_count": 68,
   "metadata": {},
   "outputs": [
    {
     "data": {
      "text/plain": [
       "(60000, 784)"
      ]
     },
     "execution_count": 68,
     "metadata": {},
     "output_type": "execute_result"
    }
   ],
   "source": [
    "X_train_reshaped.shape"
   ]
  },
  {
   "cell_type": "code",
   "execution_count": 69,
   "metadata": {
    "collapsed": true
   },
   "outputs": [],
   "source": [
    "def create_model(init):\n",
    "    model = Sequential()\n",
    "    model.add(Dense(100, input_shape=(28*28,), kernel_initializer=init, activation='tanh'))\n",
    "    model.add(Dense(100, kernel_initializer=init, activation='tanh'))\n",
    "    model.add(Dense(100, kernel_initializer=init, activation='tanh'))\n",
    "    model.add(Dense(100, kernel_initializer=init, activation='tanh'))\n",
    "    model.add(Dense(10, kernel_initializer=init, activation='softmax'))\n",
    "    \n",
    "    return model"
   ]
  },
  {
   "cell_type": "code",
   "execution_count": 70,
   "metadata": {
    "collapsed": true
   },
   "outputs": [],
   "source": [
    "uniform_model = create_model(\"uniform\")"
   ]
  },
  {
   "cell_type": "code",
   "execution_count": 71,
   "metadata": {},
   "outputs": [
    {
     "name": "stdout",
     "output_type": "stream",
     "text": [
      "Train on 60000 samples, validate on 10000 samples\n",
      "Epoch 1/5\n",
      "60000/60000 [==============================] - 3s 49us/step - loss: 2.3022 - acc: 0.1120 - val_loss: 2.3018 - val_acc: 0.1135\n",
      "Epoch 2/5\n",
      "60000/60000 [==============================] - 2s 38us/step - loss: 2.3017 - acc: 0.1124 - val_loss: 2.3015 - val_acc: 0.1135\n",
      "Epoch 3/5\n",
      "60000/60000 [==============================] - 2s 37us/step - loss: 2.3014 - acc: 0.1124 - val_loss: 2.3013 - val_acc: 0.1135\n",
      "Epoch 4/5\n",
      "60000/60000 [==============================] - 2s 36us/step - loss: 2.3013 - acc: 0.1124 - val_loss: 2.3011 - val_acc: 0.1135\n",
      "Epoch 5/5\n",
      "60000/60000 [==============================] - 2s 37us/step - loss: 2.3012 - acc: 0.1124 - val_loss: 2.3011 - val_acc: 0.1135\n"
     ]
    },
    {
     "data": {
      "text/plain": [
       "<keras.callbacks.History at 0x1213f31d0>"
      ]
     },
     "execution_count": 71,
     "metadata": {},
     "output_type": "execute_result"
    }
   ],
   "source": [
    "uniform_model.compile(loss='categorical_crossentropy', optimizer='sgd', metrics=['accuracy'])\n",
    "uniform_model.fit(X_train_reshaped, Y_train_cat, batch_size=200, nb_epoch=5, verbose=1, validation_data=(X_test_reshaped, Y_test_cat))"
   ]
  },
  {
   "cell_type": "code",
   "execution_count": 50,
   "metadata": {},
   "outputs": [
    {
     "name": "stdout",
     "output_type": "stream",
     "text": [
      "Train on 60000 samples, validate on 10000 samples\n",
      "Epoch 1/30\n",
      "60000/60000 [==============================] - 4s 69us/step - loss: 2.2876 - acc: 0.1377 - val_loss: 2.2673 - val_acc: 0.1707\n",
      "Epoch 2/30\n",
      "60000/60000 [==============================] - 4s 63us/step - loss: 2.2411 - acc: 0.2072 - val_loss: 2.2059 - val_acc: 0.2360\n",
      "Epoch 3/30\n",
      "60000/60000 [==============================] - 5s 81us/step - loss: 2.1624 - acc: 0.2685 - val_loss: 2.1117 - val_acc: 0.2804\n",
      "Epoch 4/30\n",
      "60000/60000 [==============================] - 5s 81us/step - loss: 2.0499 - acc: 0.3091 - val_loss: 1.9881 - val_acc: 0.3217\n",
      "Epoch 5/30\n",
      "60000/60000 [==============================] - 4s 70us/step - loss: 1.9268 - acc: 0.3370 - val_loss: 1.8797 - val_acc: 0.3470\n",
      "Epoch 6/30\n",
      "60000/60000 [==============================] - 4s 70us/step - loss: 1.8340 - acc: 0.3590 - val_loss: 1.8078 - val_acc: 0.3643\n",
      "Epoch 7/30\n",
      "60000/60000 [==============================] - 4s 65us/step - loss: 1.7754 - acc: 0.3768 - val_loss: 1.7632 - val_acc: 0.3801\n",
      "Epoch 8/30\n",
      "60000/60000 [==============================] - 4s 66us/step - loss: 1.7395 - acc: 0.3872 - val_loss: 1.7335 - val_acc: 0.3886\n",
      "Epoch 9/30\n",
      "60000/60000 [==============================] - 4s 66us/step - loss: 1.7148 - acc: 0.3943 - val_loss: 1.7139 - val_acc: 0.3889\n",
      "Epoch 10/30\n",
      "60000/60000 [==============================] - 4s 66us/step - loss: 1.6972 - acc: 0.3974 - val_loss: 1.7048 - val_acc: 0.3910\n",
      "Epoch 11/30\n",
      "60000/60000 [==============================] - 4s 68us/step - loss: 1.6839 - acc: 0.4008 - val_loss: 1.6931 - val_acc: 0.3988\n",
      "Epoch 12/30\n",
      "60000/60000 [==============================] - 4s 66us/step - loss: 1.6732 - acc: 0.4043 - val_loss: 1.6839 - val_acc: 0.3990\n",
      "Epoch 13/30\n",
      "60000/60000 [==============================] - 4s 66us/step - loss: 1.6646 - acc: 0.4040 - val_loss: 1.6789 - val_acc: 0.3991\n",
      "Epoch 14/30\n",
      "60000/60000 [==============================] - 4s 65us/step - loss: 1.6576 - acc: 0.4066 - val_loss: 1.6707 - val_acc: 0.4007\n",
      "Epoch 15/30\n",
      "60000/60000 [==============================] - 4s 66us/step - loss: 1.6511 - acc: 0.4107 - val_loss: 1.6708 - val_acc: 0.4045\n",
      "Epoch 16/30\n",
      "60000/60000 [==============================] - 4s 72us/step - loss: 1.6462 - acc: 0.4098 - val_loss: 1.6802 - val_acc: 0.4042\n",
      "Epoch 17/30\n",
      "60000/60000 [==============================] - 4s 66us/step - loss: 1.6415 - acc: 0.4111 - val_loss: 1.6615 - val_acc: 0.4058\n",
      "Epoch 18/30\n",
      "60000/60000 [==============================] - 4s 67us/step - loss: 1.6382 - acc: 0.4117 - val_loss: 1.6608 - val_acc: 0.4019\n",
      "Epoch 19/30\n",
      "60000/60000 [==============================] - 4s 68us/step - loss: 1.6341 - acc: 0.4118 - val_loss: 1.6747 - val_acc: 0.4035\n",
      "Epoch 20/30\n",
      "60000/60000 [==============================] - 4s 70us/step - loss: 1.6312 - acc: 0.4135 - val_loss: 1.6552 - val_acc: 0.4042\n",
      "Epoch 21/30\n",
      "60000/60000 [==============================] - 4s 66us/step - loss: 1.6281 - acc: 0.4131 - val_loss: 1.6684 - val_acc: 0.4010\n",
      "Epoch 22/30\n",
      "60000/60000 [==============================] - 4s 66us/step - loss: 1.6259 - acc: 0.4151 - val_loss: 1.6483 - val_acc: 0.4081\n",
      "Epoch 23/30\n",
      "60000/60000 [==============================] - 4s 65us/step - loss: 1.6235 - acc: 0.4140 - val_loss: 1.6500 - val_acc: 0.4080\n",
      "Epoch 24/30\n",
      "60000/60000 [==============================] - 4s 67us/step - loss: 1.6216 - acc: 0.4149 - val_loss: 1.6479 - val_acc: 0.4079\n",
      "Epoch 25/30\n",
      "60000/60000 [==============================] - 4s 67us/step - loss: 1.6196 - acc: 0.4154 - val_loss: 1.6521 - val_acc: 0.4063\n",
      "Epoch 26/30\n",
      "60000/60000 [==============================] - 4s 67us/step - loss: 1.6180 - acc: 0.4148 - val_loss: 1.6559 - val_acc: 0.4112\n",
      "Epoch 27/30\n",
      "60000/60000 [==============================] - 4s 68us/step - loss: 1.6156 - acc: 0.4162 - val_loss: 1.6558 - val_acc: 0.4051\n",
      "Epoch 28/30\n",
      "60000/60000 [==============================] - 4s 67us/step - loss: 1.6152 - acc: 0.4163 - val_loss: 1.6410 - val_acc: 0.4101\n",
      "Epoch 29/30\n",
      "60000/60000 [==============================] - 4s 66us/step - loss: 1.6128 - acc: 0.4168 - val_loss: 1.6523 - val_acc: 0.4084\n",
      "Epoch 30/30\n",
      "60000/60000 [==============================] - 4s 66us/step - loss: 1.6126 - acc: 0.4161 - val_loss: 1.6478 - val_acc: 0.4112\n"
     ]
    },
    {
     "data": {
      "text/plain": [
       "<keras.callbacks.History at 0x12a361b10>"
      ]
     },
     "execution_count": 50,
     "metadata": {},
     "output_type": "execute_result"
    }
   ],
   "source": [
    "glorot_model = create_model(\"glorot_normal\")\n",
    "glorot_model.compile(loss='categorical_crossentropy', optimizer='sgd', metrics=['accuracy'])\n",
    "glorot_model.fit(X_train_reshaped, Y_train_cat, batch_size=64, nb_epoch=30, verbose=1, validation_data=(X_test_reshaped, Y_test_cat))"
   ]
  },
  {
   "cell_type": "code",
   "execution_count": null,
   "metadata": {
    "collapsed": true
   },
   "outputs": [],
   "source": []
  }
 ],
 "metadata": {
  "kernelspec": {
   "display_name": "Python 2",
   "language": "python",
   "name": "python2"
  },
  "language_info": {
   "codemirror_mode": {
    "name": "ipython",
    "version": 2
   },
   "file_extension": ".py",
   "mimetype": "text/x-python",
   "name": "python",
   "nbconvert_exporter": "python",
   "pygments_lexer": "ipython2",
   "version": "2.7.13"
  }
 },
 "nbformat": 4,
 "nbformat_minor": 2
}
